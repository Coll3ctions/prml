{
 "metadata": {
  "name": ""
 },
 "nbformat": 3,
 "nbformat_minor": 0,
 "worksheets": [
  {
   "cells": [
    {
     "cell_type": "code",
     "collapsed": false,
     "input": [
      "%pylab inline\n",
      "\n",
      "def sigmoid(x):\n",
      "    return 1./(1 + exp(-x))"
     ],
     "language": "python",
     "metadata": {},
     "outputs": [
      {
       "output_type": "stream",
       "stream": "stdout",
       "text": [
        "Populating the interactive namespace from numpy and matplotlib\n"
       ]
      }
     ],
     "prompt_number": 6
    },
    {
     "cell_type": "code",
     "collapsed": false,
     "input": [
      "xs = 2 * random.random(100) - 1\n",
      "ys = 2 * random.random(100) - 1\n",
      "\n",
      "training = array([xs, ys]).T\n",
      "targets = ys > sin(4 * xs) + randn(100)\n",
      "\n",
      "plot(linspace(-1,1),sin(4 * linspace(-1,1)), 'g')\n",
      "\n",
      "\n",
      "scatter(xs, ys, c=targets)"
     ],
     "language": "python",
     "metadata": {},
     "outputs": [
      {
       "metadata": {},
       "output_type": "pyout",
       "prompt_number": 166,
       "text": [
        "<matplotlib.collections.PathCollection at 0xd7f6510>"
       ]
      },
      {
       "metadata": {},
       "output_type": "display_data",
       "png": "[encoded data removed]",
       "text": [
        "<matplotlib.figure.Figure at 0xd7f66d0>"
       ]
      }
     ],
     "prompt_number": 166
    },
    {
     "cell_type": "code",
     "collapsed": false,
     "input": [
      "height = 20\n",
      "dims = 2\n",
      "nout = 1\n",
      "\n",
      "weights_layer1 = random.random((height, dims)) * 0.1\n",
      "biases = random.random((height, 1)) * 0.1\n",
      "\n",
      "#print weights_layer1\n",
      "#print biases"
     ],
     "language": "python",
     "metadata": {},
     "outputs": [],
     "prompt_number": 163
    },
    {
     "cell_type": "markdown",
     "metadata": {},
     "source": [
      "Activation given by\n",
      "\n",
      "\\begin{equation}\n",
      "a_j = \\sum_{i=1}^{D}w_{ji}^{(1)} + w_{j0}^{(1)}\n",
      "\\end{equation}"
     ]
    },
    {
     "cell_type": "code",
     "collapsed": false,
     "input": [
      "def activation(x):\n",
      "    return sum(dot(weights_layer1, x), 0, keepdims=1) + biases"
     ],
     "language": "python",
     "metadata": {},
     "outputs": [],
     "prompt_number": 108
    },
    {
     "cell_type": "code",
     "collapsed": false,
     "input": [
      "inputs = training[0]\n",
      "aa = activation(inputs)\n",
      "\n",
      "print inputs\n",
      "print aa"
     ],
     "language": "python",
     "metadata": {},
     "outputs": [
      {
       "output_type": "stream",
       "stream": "stdout",
       "text": [
        "[ 0.47996019  0.44486458]\n",
        "[[ 0.94201089]\n",
        " [ 0.89551313]\n",
        " [ 0.92497387]\n",
        " [ 0.88270385]\n",
        " [ 0.95424965]\n",
        " [ 0.94991948]\n",
        " [ 0.90769228]\n",
        " [ 0.88816146]\n",
        " [ 0.94658913]\n",
        " [ 0.90136925]\n",
        " [ 0.94227956]\n",
        " [ 0.91732628]\n",
        " [ 0.9187514 ]\n",
        " [ 0.89909976]\n",
        " [ 0.94770554]\n",
        " [ 0.94014031]\n",
        " [ 0.95667431]\n",
        " [ 0.89362179]\n",
        " [ 0.87410736]\n",
        " [ 0.93240669]]\n"
       ]
      }
     ],
     "prompt_number": 109
    },
    {
     "cell_type": "code",
     "collapsed": false,
     "input": [
      "def nonlinear_transformation(a):\n",
      "    return tanh(a)"
     ],
     "language": "python",
     "metadata": {},
     "outputs": [],
     "prompt_number": 110
    },
    {
     "cell_type": "code",
     "collapsed": false,
     "input": [
      "zz = nonlinear_transformation(aa)\n",
      "print zz"
     ],
     "language": "python",
     "metadata": {},
     "outputs": [
      {
       "output_type": "stream",
       "stream": "stdout",
       "text": [
        "[[ 0.73614479]\n",
        " [ 0.71410611]\n",
        " [ 0.72824194]\n",
        " [ 0.70777129]\n",
        " [ 0.74170092]\n",
        " [ 0.73974659]\n",
        " [ 0.72002278]\n",
        " [ 0.71048445]\n",
        " [ 0.73823498]\n",
        " [ 0.71696393]\n",
        " [ 0.73626784]\n",
        " [ 0.7246301 ]\n",
        " [ 0.7253062 ]\n",
        " [ 0.71585925]\n",
        " [ 0.73874253]\n",
        " [ 0.73528671]\n",
        " [ 0.74278976]\n",
        " [ 0.713178  ]\n",
        " [ 0.70345497]\n",
        " [ 0.731714  ]]\n"
       ]
      }
     ],
     "prompt_number": 111
    },
    {
     "cell_type": "code",
     "collapsed": false,
     "input": [
      "plot(aa, 'b')\n",
      "#figure()\n",
      "plot(zz, 'g')"
     ],
     "language": "python",
     "metadata": {},
     "outputs": [
      {
       "metadata": {},
       "output_type": "pyout",
       "prompt_number": 113,
       "text": [
        "[<matplotlib.lines.Line2D at 0x6ea2f90>]"
       ]
      },
      {
       "metadata": {},
       "output_type": "display_data",
       "png": "[encoded data removed]",
       "text": [
        "<matplotlib.figure.Figure at 0x69a6190>"
       ]
      }
     ],
     "prompt_number": 113
    },
    {
     "cell_type": "code",
     "collapsed": false,
     "input": [
      "weights_layer2 = random.random((nout, height)) * 0.1\n",
      "biases2 = random.random((nout, 1)) * 0.1\n",
      "#print weights_layer2, biases2"
     ],
     "language": "python",
     "metadata": {},
     "outputs": [],
     "prompt_number": 117
    },
    {
     "cell_type": "code",
     "collapsed": false,
     "input": [
      "def output_activation(z):\n",
      "    return sum(dot(weights_layer2, z)) + biases2\n",
      "\n",
      "def output_transformation(o):\n",
      "    return sigmoid(o)"
     ],
     "language": "python",
     "metadata": {},
     "outputs": [],
     "prompt_number": 125
    },
    {
     "cell_type": "code",
     "collapsed": false,
     "input": [
      "oo = output_transformation(output_activation(zz))\n",
      "print oo"
     ],
     "language": "python",
     "metadata": {},
     "outputs": [
      {
       "output_type": "stream",
       "stream": "stdout",
       "text": [
        "[[ 0.65949662]]\n"
       ]
      }
     ],
     "prompt_number": 126
    },
    {
     "cell_type": "code",
     "collapsed": false,
     "input": [],
     "language": "python",
     "metadata": {},
     "outputs": [],
     "prompt_number": 121
    },
    {
     "cell_type": "code",
     "collapsed": false,
     "input": [],
     "language": "python",
     "metadata": {},
     "outputs": []
    }
   ],
   "metadata": {}
  }
 ]
}