{
 "metadata": {
  "name": ""
 },
 "nbformat": 3,
 "nbformat_minor": 0,
 "worksheets": [
  {
   "cells": [
    {
     "cell_type": "code",
     "collapsed": false,
     "input": [
      "%pylab inline\n",
      "import pydot\n",
      "from IPython.display import Image, display, SVG\n",
      "import re\n"
     ],
     "language": "python",
     "metadata": {},
     "outputs": [
      {
       "output_type": "stream",
       "stream": "stdout",
       "text": [
        "Populating the interactive namespace from numpy and matplotlib\n",
        "Couldn't import dot_parser, loading of dot files will not be possible.\n"
       ]
      }
     ],
     "prompt_number": 1
    },
    {
     "cell_type": "markdown",
     "metadata": {},
     "source": [
      "A neural network, or \"multilayer perceptron\", is made up of units computing a nonlinear transformation of a weighted sum of their inputs. So the output of a unit looks something like:\n",
      "\n",
      "\\begin{equation}\n",
      "o(x_1,x_2,...x_n) = \\sigma(w_0 + w_1 x_1 + w_2 x_2 + ... w_n x_n)\n",
      "\\end{equation}\n",
      "\n",
      "$w_0$ represents a bias that does not depend on the input.\n",
      "\n",
      "Here the nonlinear function $\\sigma$ is the logistic sigmoid function, which as we shall see, is useful because it is a continuous function of its input and is differentiable. It \"squashes\" its input domain into a range between 0 and 1. (The tanh function may also be used, which has a range between -1 and 1). \n",
      "\n",
      "The definition and plot of the sigmoid function is:"
     ]
    },
    {
     "cell_type": "code",
     "collapsed": false,
     "input": [
      "def sigmoid(x):\n",
      "    return 1./(1 + exp(-x))\n",
      "\n",
      "xs = linspace(-6, 6, 100)\n",
      "plot(xs, sigmoid(xs), label='sigmoid')\n",
      "plot(xs, tanh(xs), label='tanh')\n",
      "\n",
      "legend(loc=0)"
     ],
     "language": "python",
     "metadata": {},
     "outputs": [
      {
       "metadata": {},
       "output_type": "pyout",
       "prompt_number": 2,
       "text": [
        "<matplotlib.legend.Legend at 0x2ae3f10>"
       ]
      },
      {
       "metadata": {},
       "output_type": "display_data",
       "png": "[encoded data removed]",
       "text": [
        "<matplotlib.figure.Figure at 0x2ac56d0>"
       ]
      }
     ],
     "prompt_number": 2
    },
    {
     "cell_type": "markdown",
     "metadata": {},
     "source": [
      "These units are grouped into layers, each having multiple units, and with the outputs of the units of one layer feeding into the units of the next layer.\n",
      "\n",
      "This is easiest to show graphically, so we define a function to create a network diagram:"
     ]
    },
    {
     "cell_type": "code",
     "collapsed": false,
     "input": [
      "def viewnet(layers, weights=None):\n",
      "    names = ['Input'] + ['Hidden %d' % l for l in range(1,len(layers)-1)] + ['Output']\n",
      "    labels = ['x'] + ['z'] * (len(layers)-2) + ['y']\n",
      "    gr = pydot.Dot(graph_type='graph', rankdir='LR', splines='line', fontname='sans-serif')\n",
      "    weights = np.array(weights) if weights is not None else None\n",
      "\n",
      "    layernodes = []\n",
      "\n",
      "    # Create our layers\n",
      "    for l, height in enumerate(layers):\n",
      "        layer = pydot.Cluster(graph_name='Layer%d' % l, label=names[l])\n",
      "        \n",
      "        # HSV colour, split the hue among layers\n",
      "        layer.set_bgcolor('%f,.4,1' % (float(l)/len(layers)))\n",
      "        \n",
      "        nodenames = []\n",
      "        \n",
      "        # Create our units\n",
      "        for k in range(height):\n",
      "            name = '%d %s' % (k+1, names[l])\n",
      "            label = labels[l] + str(k+1)\n",
      "            node = pydot.Node(name, label=label, regular=True, fontname='sans-serif')\n",
      "            if l > 0 and weights is not None:\n",
      "                # Show bias on hover\n",
      "                node.set_tooltip('bias=%+f' % weights[l-1][k,0])\n",
      "            layer.add_node(node)\n",
      "            nodenames.append(name)\n",
      "            \n",
      "        layernodes.append(nodenames)\n",
      "        gr.add_subgraph(layer)\n",
      "    \n",
      "        if l > 0:\n",
      "            # Add edges between previous and this layer\n",
      "            for i1, n1 in enumerate(layernodes[l-1]):\n",
      "                for i2, n2 in enumerate(layernodes[l]):\n",
      "                    # hack to keep the node orders sequential\n",
      "                    # only 'constrain' the edge between middle nodes\n",
      "                    constrain = i1 == floor(len(layernodes[l-1])/2.) and i2 == floor(height/2.)\n",
      "                    tooltip = 'w%d%d' % (i2+1,i1+1)\n",
      "                    if weights is not None:\n",
      "                        tooltip += '=%f' % weights[l-1][i2,i1+1] # +1 for bias\n",
      "                    gr.add_edge(pydot.Edge(n1, n2, tooltip=tooltip, dir='forward', constraint=constrain))\n",
      "    # remove superfluous tooltips\n",
      "    svg = re.sub('<title>.*</title>', '', gr.create_svg())\n",
      "    return SVG(svg)"
     ],
     "language": "python",
     "metadata": {},
     "outputs": [],
     "prompt_number": 38
    },
    {
     "cell_type": "markdown",
     "metadata": {},
     "source": [
      "Now we show a layer with 4 of these sigmoid units, along with an \"input\" layer that represents a 2D sample point. (Not showing the biases)."
     ]
    },
    {
     "cell_type": "code",
     "collapsed": false,
     "input": [
      "# Create a diagram with 2 input units and 4 hidden units\n",
      "# (ignoring output units now by setting to 0)\n",
      "viewnet(layers=[2,4,0])"
     ],
     "language": "python",
     "metadata": {},
     "outputs": [
      {
       "metadata": {},
       "output_type": "pyout",
       "prompt_number": 39,
       "svg": [
        "<svg height=\"312pt\" viewBox=\"0.00 0.00 186.00 312.00\" width=\"186pt\" xmlns=\"http://www.w3.org/2000/svg\" xmlns:xlink=\"http://www.w3.org/1999/xlink\">\n",
        "<g class=\"graph\" id=\"graph1\" transform=\"scale(1 1) rotate(0) translate(4 308)\">\n",
        "\n",
        "<polygon fill=\"white\" points=\"-4,5 -4,-308 183,-308 183,5 -4,5\" stroke=\"white\"/>\n",
        "<g class=\"cluster\" id=\"graph2\">\n",
        "<polygon fill=\"#ff9999\" points=\"8,-74 8,-230 72,-230 72,-74 8,-74\" stroke=\"black\"/>\n",
        "<text font-family=\"sans-serif\" font-size=\"14.00\" text-anchor=\"middle\" x=\"40\" y=\"-213.4\">Input</text>\n",
        "</g>\n",
        "<g class=\"cluster\" id=\"graph3\">\n",
        "<polygon fill=\"#99ff99\" points=\"92,-8 92,-296 170,-296 170,-8 92,-8\" stroke=\"black\"/>\n",
        "<text font-family=\"sans-serif\" font-size=\"14.00\" text-anchor=\"middle\" x=\"131\" y=\"-279.4\">Hidden 1</text>\n",
        "</g>\n",
        "<!-- 1 Input -->\n",
        "<g class=\"node\" id=\"node2\">\n",
        "<ellipse cx=\"40\" cy=\"-172\" fill=\"none\" rx=\"24.0416\" ry=\"24.0416\" stroke=\"black\"/>\n",
        "<text font-family=\"sans-serif\" font-size=\"14.00\" text-anchor=\"middle\" x=\"40\" y=\"-168.4\">x1</text>\n",
        "</g>\n",
        "<!-- 1 Hidden 1 -->\n",
        "<g class=\"node\" id=\"node5\">\n",
        "<ellipse cx=\"131\" cy=\"-238\" fill=\"none\" rx=\"24.0416\" ry=\"24.0416\" stroke=\"black\"/>\n",
        "<text font-family=\"sans-serif\" font-size=\"14.00\" text-anchor=\"middle\" x=\"131\" y=\"-234.4\">z1</text>\n",
        "</g>\n",
        "<!-- 1 Input&#45;&#45;1 Hidden 1 -->\n",
        "<g class=\"edge\" id=\"edge4\">\n",
        "<a xlink:title=\"w11\">\n",
        "<path d=\"M59.7456,-186.321C72.3859,-195.489 88.9803,-207.524 102.974,-217.674\" fill=\"none\" stroke=\"black\"/>\n",
        "<polygon fill=\"black\" points=\"101.143,-220.669 111.293,-223.707 105.253,-215.002 101.143,-220.669\" stroke=\"black\"/>\n",
        "</a>\n",
        "</g>\n",
        "<!-- 2 Hidden 1 -->\n",
        "<g class=\"node\" id=\"node6\">\n",
        "<ellipse cx=\"131\" cy=\"-172\" fill=\"none\" rx=\"24.0416\" ry=\"24.0416\" stroke=\"black\"/>\n",
        "<text font-family=\"sans-serif\" font-size=\"14.00\" text-anchor=\"middle\" x=\"131\" y=\"-168.4\">z2</text>\n",
        "</g>\n",
        "<!-- 1 Input&#45;&#45;2 Hidden 1 -->\n",
        "<g class=\"edge\" id=\"edge6\">\n",
        "<a xlink:title=\"w21\">\n",
        "<path d=\"M64.3863,-172C74.2577,-172 85.8326,-172 96.5395,-172\" fill=\"none\" stroke=\"black\"/>\n",
        "<polygon fill=\"black\" points=\"96.8619,-175.5 106.862,-172 96.8619,-168.5 96.8619,-175.5\" stroke=\"black\"/>\n",
        "</a>\n",
        "</g>\n",
        "<!-- 3 Hidden 1 -->\n",
        "<g class=\"node\" id=\"node7\">\n",
        "<ellipse cx=\"131\" cy=\"-106\" fill=\"none\" rx=\"24.0416\" ry=\"24.0416\" stroke=\"black\"/>\n",
        "<text font-family=\"sans-serif\" font-size=\"14.00\" text-anchor=\"middle\" x=\"131\" y=\"-102.4\">z3</text>\n",
        "</g>\n",
        "<!-- 1 Input&#45;&#45;3 Hidden 1 -->\n",
        "<g class=\"edge\" id=\"edge8\">\n",
        "<a xlink:title=\"w31\">\n",
        "<path d=\"M59.7456,-157.679C72.3859,-148.511 88.9803,-136.476 102.974,-126.326\" fill=\"none\" stroke=\"black\"/>\n",
        "<polygon fill=\"black\" points=\"105.253,-128.998 111.293,-120.293 101.143,-123.331 105.253,-128.998\" stroke=\"black\"/>\n",
        "</a>\n",
        "</g>\n",
        "<!-- 4 Hidden 1 -->\n",
        "<g class=\"node\" id=\"node8\">\n",
        "<ellipse cx=\"131\" cy=\"-40\" fill=\"none\" rx=\"24.0416\" ry=\"24.0416\" stroke=\"black\"/>\n",
        "<text font-family=\"sans-serif\" font-size=\"14.00\" text-anchor=\"middle\" x=\"131\" y=\"-36.4\">z4</text>\n",
        "</g>\n",
        "<!-- 1 Input&#45;&#45;4 Hidden 1 -->\n",
        "<g class=\"edge\" id=\"edge10\">\n",
        "<a xlink:title=\"w41\">\n",
        "<path d=\"M53.6236,-152.238C68.9696,-129.978 94.0377,-93.6157 111.466,-68.3353\" fill=\"none\" stroke=\"black\"/>\n",
        "<polygon fill=\"black\" points=\"114.489,-70.1165 117.283,-59.8968 108.726,-66.1434 114.489,-70.1165\" stroke=\"black\"/>\n",
        "</a>\n",
        "</g>\n",
        "<!-- 2 Input -->\n",
        "<g class=\"node\" id=\"node3\">\n",
        "<ellipse cx=\"40\" cy=\"-106\" fill=\"none\" rx=\"24.0416\" ry=\"24.0416\" stroke=\"black\"/>\n",
        "<text font-family=\"sans-serif\" font-size=\"14.00\" text-anchor=\"middle\" x=\"40\" y=\"-102.4\">x2</text>\n",
        "</g>\n",
        "<!-- 2 Input&#45;&#45;1 Hidden 1 -->\n",
        "<g class=\"edge\" id=\"edge12\">\n",
        "<a xlink:title=\"w12\">\n",
        "<path d=\"M53.6236,-125.762C68.9696,-148.022 94.0377,-184.384 111.466,-209.665\" fill=\"none\" stroke=\"black\"/>\n",
        "<polygon fill=\"black\" points=\"108.726,-211.857 117.283,-218.103 114.489,-207.883 108.726,-211.857\" stroke=\"black\"/>\n",
        "</a>\n",
        "</g>\n",
        "<!-- 2 Input&#45;&#45;2 Hidden 1 -->\n",
        "<g class=\"edge\" id=\"edge14\">\n",
        "<a xlink:title=\"w22\">\n",
        "<path d=\"M59.7456,-120.321C72.3859,-129.489 88.9803,-141.524 102.974,-151.674\" fill=\"none\" stroke=\"black\"/>\n",
        "<polygon fill=\"black\" points=\"101.143,-154.669 111.293,-157.707 105.253,-149.002 101.143,-154.669\" stroke=\"black\"/>\n",
        "</a>\n",
        "</g>\n",
        "<!-- 2 Input&#45;&#45;3 Hidden 1 -->\n",
        "<g class=\"edge\" id=\"edge16\">\n",
        "<a xlink:title=\"w32\">\n",
        "<path d=\"M64.3863,-106C74.2577,-106 85.8326,-106 96.5395,-106\" fill=\"none\" stroke=\"black\"/>\n",
        "<polygon fill=\"black\" points=\"96.8619,-109.5 106.862,-106 96.8619,-102.5 96.8619,-109.5\" stroke=\"black\"/>\n",
        "</a>\n",
        "</g>\n",
        "<!-- 2 Input&#45;&#45;4 Hidden 1 -->\n",
        "<g class=\"edge\" id=\"edge18\">\n",
        "<a xlink:title=\"w42\">\n",
        "<path d=\"M59.7456,-91.679C72.3859,-82.5113 88.9803,-70.4758 102.974,-60.3263\" fill=\"none\" stroke=\"black\"/>\n",
        "<polygon fill=\"black\" points=\"105.253,-62.9975 111.293,-54.2931 101.143,-57.331 105.253,-62.9975\" stroke=\"black\"/>\n",
        "</a>\n",
        "</g>\n",
        "</g>\n",
        "</svg>"
       ],
       "text": [
        "<IPython.core.display.SVG at 0x2af2190>"
       ]
      }
     ],
     "prompt_number": 39
    },
    {
     "cell_type": "markdown",
     "metadata": {},
     "source": [
      "This can be represented by:\n",
      "\n",
      "\\begin{equation}\n",
      "z_j = \\sigma(a_j) = \\sigma(\\sum_{i=1}^{D}w_{ji}x_i + w_{j0})\n",
      "\\end{equation}\n",
      "\n",
      "Where $a_j$ is our \"activation\" which is transformed by the nonlinear \"activation function\" $\\sigma$\n",
      "\n",
      "Or, if we define $x_0$ to be constant 1, we can write it in vector form as:\n",
      "\n",
      "\\begin{equation}\n",
      "\\mathbf{z} = \\sigma(W \\mathbf{x})\n",
      "\\end{equation}\n",
      "\n",
      "(the sigmoid being element-wise)"
     ]
    },
    {
     "cell_type": "markdown",
     "metadata": {},
     "source": [
      "For example, with the appropriate weights and biases we can represent various boolean functions. Here an output > 0.5 is true and < 0.5 is false."
     ]
    },
    {
     "cell_type": "code",
     "collapsed": false,
     "input": [
      "biases = [-3, -1, 3, 1]\n",
      "\n",
      "weights = [[ 2.,  2.], # AND\n",
      "           [ 2.,  2.], # OR\n",
      "           [-2., -2.], # NAND\n",
      "           [-2., -2.]] # NOR\n",
      "\n",
      "# concatenate the biases and weights into one array\n",
      "W = zeros((4,3))\n",
      "W[:,0], W[:,1:] = biases, weights\n",
      "\n",
      "print 'W = \\n', W, '\\n'\n",
      "\n",
      "# test with x1=0, x2=1\n",
      "x = [0, 1]\n",
      "\n",
      "# set x0 to be constant 1\n",
      "x = [1] + x\n",
      "\n",
      "print 'x = ', x, '\\n'\n",
      "\n",
      "print 'activation:', dot(W, x)\n",
      "print 'nonlinear transform:', sigmoid(dot(W, x))"
     ],
     "language": "python",
     "metadata": {},
     "outputs": [
      {
       "output_type": "stream",
       "stream": "stdout",
       "text": [
        "W = \n",
        "[[-3.  2.  2.]\n",
        " [-1.  2.  2.]\n",
        " [ 3. -2. -2.]\n",
        " [ 1. -2. -2.]] \n",
        "\n",
        "x =  [1, 0, 1] \n",
        "\n",
        "activation: [-1.  1.  1. -1.]\n",
        "nonlinear transform: [ 0.26894142  0.73105858  0.73105858  0.26894142]\n"
       ]
      }
     ],
     "prompt_number": 5
    },
    {
     "cell_type": "markdown",
     "metadata": {},
     "source": [
      "We make a couple of functions to compute a sigmoid and tanh layer"
     ]
    },
    {
     "cell_type": "code",
     "collapsed": false,
     "input": [
      "def sigmoid_layer(x, W):\n",
      "    assert x[0] == 1\n",
      "    return sigmoid(dot(W, x))\n",
      "\n",
      "def tanh_layer(x, W):\n",
      "    assert x[0] == 1\n",
      "    return tanh(dot(W, x))"
     ],
     "language": "python",
     "metadata": {},
     "outputs": [],
     "prompt_number": 6
    },
    {
     "cell_type": "markdown",
     "metadata": {},
     "source": [
      "Using our boolean weights with a tanh unit, we get a positive value for true and a negative value for false."
     ]
    },
    {
     "cell_type": "code",
     "collapsed": false,
     "input": [
      "for x1 in (0,1):\n",
      "    for x2 in (0,1):\n",
      "        print x1, x2, tanh_layer([1, x1, x2], W)"
     ],
     "language": "python",
     "metadata": {},
     "outputs": [
      {
       "output_type": "stream",
       "stream": "stdout",
       "text": [
        "0 0 [-0.99505475 -0.76159416  0.99505475  0.76159416]\n",
        "0 1 [-0.76159416  0.76159416  0.76159416 -0.76159416]\n",
        "1 0 [-0.76159416  0.76159416  0.76159416 -0.76159416]\n",
        "1 1 [ 0.76159416  0.99505475 -0.76159416 -0.99505475]\n"
       ]
      }
     ],
     "prompt_number": 7
    },
    {
     "cell_type": "markdown",
     "metadata": {},
     "source": [
      "So far so good, but this is all stuff we could do with a Perceptron (a simple threshold unit, ie $\\operatorname{sign}(\\mathbf{w}.\\mathbf{x})$). Why do we need the sigmoidal function?\n",
      "\n",
      "Well, with a single non-linear layer (sigmoidal or perceptron) there are functions we cannot represent, for example no configuration of the weights above would allow us to compute boolean XOR. However, with additional layers the story is different. Indeed, some combination of NAND units is sufficient to compute any boolean function. In fact any boolean function can be computed with just two layers, using a combination of OR and AND units, since any boolean function can be expressed in disjunctive normal form (an OR of ANDs of inputs and their negations, where negation can be expressed by the weights).\n",
      "\n",
      "This gives us greater representational power, but still could be done by multiple layers of perceptron units. The difference is when it comes to learning the weights from samples. There is no efficient learning rule for multiple layers of perceptron units, but because the sigmoid units are smooth we can find their gradient, which gives rise to an efficient learning algorithm called Backpropagation."
     ]
    },
    {
     "cell_type": "code",
     "collapsed": false,
     "input": [
      "# Implement XOR, by setting weights such that\n",
      "# the AND and OR columns above are added, then -1\n",
      "#\n",
      "#                bias AND  OR   NAND NOR\n",
      "W_out = array([[-1.0, 0.0, 1.0, 1.0, 0.0]])\n",
      "\n",
      "for x1 in (0,1):\n",
      "    for x2 in (0,1):\n",
      "        print x1, x2, tanh_layer([1]+list(tanh_layer([1, x1, x2], W)), W_out)"
     ],
     "language": "python",
     "metadata": {},
     "outputs": [
      {
       "output_type": "stream",
       "stream": "stdout",
       "text": [
        "0 0 [-0.64491267]\n",
        "0 1 [ 0.48015701]\n",
        "1 0 [ 0.48015701]\n",
        "1 1 [-0.64491267]\n"
       ]
      }
     ],
     "prompt_number": 8
    },
    {
     "cell_type": "markdown",
     "metadata": {},
     "source": [
      "A diagram of our \"handmade\" XOR net. Hover over the arrows and units to see the weights and biases."
     ]
    },
    {
     "cell_type": "code",
     "collapsed": false,
     "input": [
      "viewnet(layers=[2,4,1], weights=[W, W_out])"
     ],
     "language": "python",
     "metadata": {},
     "outputs": [
      {
       "metadata": {},
       "output_type": "pyout",
       "prompt_number": 40,
       "svg": [
        "<svg height=\"312pt\" viewBox=\"0.00 0.00 272.00 312.00\" width=\"272pt\" xmlns=\"http://www.w3.org/2000/svg\" xmlns:xlink=\"http://www.w3.org/1999/xlink\">\n",
        "<g class=\"graph\" id=\"graph1\" transform=\"scale(1 1) rotate(0) translate(4 308)\">\n",
        "\n",
        "<polygon fill=\"white\" points=\"-4,5 -4,-308 269,-308 269,5 -4,5\" stroke=\"white\"/>\n",
        "<g class=\"cluster\" id=\"graph2\">\n",
        "<polygon fill=\"#ff9999\" points=\"8,-74 8,-230 72,-230 72,-74 8,-74\" stroke=\"black\"/>\n",
        "<text font-family=\"sans-serif\" font-size=\"14.00\" text-anchor=\"middle\" x=\"40\" y=\"-213.4\">Input</text>\n",
        "</g>\n",
        "<g class=\"cluster\" id=\"graph3\">\n",
        "<polygon fill=\"#99ff99\" points=\"92,-8 92,-296 170,-296 170,-8 92,-8\" stroke=\"black\"/>\n",
        "<text font-family=\"sans-serif\" font-size=\"14.00\" text-anchor=\"middle\" x=\"131\" y=\"-279.4\">Hidden 1</text>\n",
        "</g>\n",
        "<g class=\"cluster\" id=\"graph4\">\n",
        "<polygon fill=\"#9999ff\" points=\"190,-74 190,-164 256,-164 256,-74 190,-74\" stroke=\"black\"/>\n",
        "<text font-family=\"sans-serif\" font-size=\"14.00\" text-anchor=\"middle\" x=\"223\" y=\"-147.4\">Output</text>\n",
        "</g>\n",
        "<!-- 1 Input -->\n",
        "<g class=\"node\" id=\"node2\">\n",
        "<ellipse cx=\"40\" cy=\"-172\" fill=\"none\" rx=\"24.0416\" ry=\"24.0416\" stroke=\"black\"/>\n",
        "<text font-family=\"sans-serif\" font-size=\"14.00\" text-anchor=\"middle\" x=\"40\" y=\"-168.4\">x1</text>\n",
        "</g>\n",
        "<!-- 1 Hidden 1 -->\n",
        "<g class=\"node\" id=\"node5\">\n",
        "<a xlink:title=\"bias=-3.000000\">\n",
        "<ellipse cx=\"131\" cy=\"-238\" fill=\"none\" rx=\"24.0416\" ry=\"24.0416\" stroke=\"black\"/>\n",
        "<text font-family=\"sans-serif\" font-size=\"14.00\" text-anchor=\"middle\" x=\"131\" y=\"-234.4\">z1</text>\n",
        "</a>\n",
        "</g>\n",
        "<!-- 1 Input&#45;&#45;1 Hidden 1 -->\n",
        "<g class=\"edge\" id=\"edge4\">\n",
        "<a xlink:title=\"w11=2.000000\">\n",
        "<path d=\"M59.7456,-186.321C72.3859,-195.489 88.9803,-207.524 102.974,-217.674\" fill=\"none\" stroke=\"black\"/>\n",
        "<polygon fill=\"black\" points=\"101.143,-220.669 111.293,-223.707 105.253,-215.002 101.143,-220.669\" stroke=\"black\"/>\n",
        "</a>\n",
        "</g>\n",
        "<!-- 2 Hidden 1 -->\n",
        "<g class=\"node\" id=\"node6\">\n",
        "<a xlink:title=\"bias=-1.000000\">\n",
        "<ellipse cx=\"131\" cy=\"-172\" fill=\"none\" rx=\"24.0416\" ry=\"24.0416\" stroke=\"black\"/>\n",
        "<text font-family=\"sans-serif\" font-size=\"14.00\" text-anchor=\"middle\" x=\"131\" y=\"-168.4\">z2</text>\n",
        "</a>\n",
        "</g>\n",
        "<!-- 1 Input&#45;&#45;2 Hidden 1 -->\n",
        "<g class=\"edge\" id=\"edge6\">\n",
        "<a xlink:title=\"w21=2.000000\">\n",
        "<path d=\"M64.3863,-172C74.2577,-172 85.8326,-172 96.5395,-172\" fill=\"none\" stroke=\"black\"/>\n",
        "<polygon fill=\"black\" points=\"96.8619,-175.5 106.862,-172 96.8619,-168.5 96.8619,-175.5\" stroke=\"black\"/>\n",
        "</a>\n",
        "</g>\n",
        "<!-- 3 Hidden 1 -->\n",
        "<g class=\"node\" id=\"node7\">\n",
        "<a xlink:title=\"bias=+3.000000\">\n",
        "<ellipse cx=\"131\" cy=\"-106\" fill=\"none\" rx=\"24.0416\" ry=\"24.0416\" stroke=\"black\"/>\n",
        "<text font-family=\"sans-serif\" font-size=\"14.00\" text-anchor=\"middle\" x=\"131\" y=\"-102.4\">z3</text>\n",
        "</a>\n",
        "</g>\n",
        "<!-- 1 Input&#45;&#45;3 Hidden 1 -->\n",
        "<g class=\"edge\" id=\"edge8\">\n",
        "<a xlink:title=\"w31=-2.000000\">\n",
        "<path d=\"M59.7456,-157.679C72.3859,-148.511 88.9803,-136.476 102.974,-126.326\" fill=\"none\" stroke=\"black\"/>\n",
        "<polygon fill=\"black\" points=\"105.253,-128.998 111.293,-120.293 101.143,-123.331 105.253,-128.998\" stroke=\"black\"/>\n",
        "</a>\n",
        "</g>\n",
        "<!-- 4 Hidden 1 -->\n",
        "<g class=\"node\" id=\"node8\">\n",
        "<a xlink:title=\"bias=+1.000000\">\n",
        "<ellipse cx=\"131\" cy=\"-40\" fill=\"none\" rx=\"24.0416\" ry=\"24.0416\" stroke=\"black\"/>\n",
        "<text font-family=\"sans-serif\" font-size=\"14.00\" text-anchor=\"middle\" x=\"131\" y=\"-36.4\">z4</text>\n",
        "</a>\n",
        "</g>\n",
        "<!-- 1 Input&#45;&#45;4 Hidden 1 -->\n",
        "<g class=\"edge\" id=\"edge10\">\n",
        "<a xlink:title=\"w41=-2.000000\">\n",
        "<path d=\"M53.6236,-152.238C68.9696,-129.978 94.0377,-93.6157 111.466,-68.3353\" fill=\"none\" stroke=\"black\"/>\n",
        "<polygon fill=\"black\" points=\"114.489,-70.1165 117.283,-59.8968 108.726,-66.1434 114.489,-70.1165\" stroke=\"black\"/>\n",
        "</a>\n",
        "</g>\n",
        "<!-- 2 Input -->\n",
        "<g class=\"node\" id=\"node3\">\n",
        "<ellipse cx=\"40\" cy=\"-106\" fill=\"none\" rx=\"24.0416\" ry=\"24.0416\" stroke=\"black\"/>\n",
        "<text font-family=\"sans-serif\" font-size=\"14.00\" text-anchor=\"middle\" x=\"40\" y=\"-102.4\">x2</text>\n",
        "</g>\n",
        "<!-- 2 Input&#45;&#45;1 Hidden 1 -->\n",
        "<g class=\"edge\" id=\"edge12\">\n",
        "<a xlink:title=\"w12=2.000000\">\n",
        "<path d=\"M53.6236,-125.762C68.9696,-148.022 94.0377,-184.384 111.466,-209.665\" fill=\"none\" stroke=\"black\"/>\n",
        "<polygon fill=\"black\" points=\"108.726,-211.857 117.283,-218.103 114.489,-207.883 108.726,-211.857\" stroke=\"black\"/>\n",
        "</a>\n",
        "</g>\n",
        "<!-- 2 Input&#45;&#45;2 Hidden 1 -->\n",
        "<g class=\"edge\" id=\"edge14\">\n",
        "<a xlink:title=\"w22=2.000000\">\n",
        "<path d=\"M59.7456,-120.321C72.3859,-129.489 88.9803,-141.524 102.974,-151.674\" fill=\"none\" stroke=\"black\"/>\n",
        "<polygon fill=\"black\" points=\"101.143,-154.669 111.293,-157.707 105.253,-149.002 101.143,-154.669\" stroke=\"black\"/>\n",
        "</a>\n",
        "</g>\n",
        "<!-- 2 Input&#45;&#45;3 Hidden 1 -->\n",
        "<g class=\"edge\" id=\"edge16\">\n",
        "<a xlink:title=\"w32=-2.000000\">\n",
        "<path d=\"M64.3863,-106C74.2577,-106 85.8326,-106 96.5395,-106\" fill=\"none\" stroke=\"black\"/>\n",
        "<polygon fill=\"black\" points=\"96.8619,-109.5 106.862,-106 96.8619,-102.5 96.8619,-109.5\" stroke=\"black\"/>\n",
        "</a>\n",
        "</g>\n",
        "<!-- 2 Input&#45;&#45;4 Hidden 1 -->\n",
        "<g class=\"edge\" id=\"edge18\">\n",
        "<a xlink:title=\"w42=-2.000000\">\n",
        "<path d=\"M59.7456,-91.679C72.3859,-82.5113 88.9803,-70.4758 102.974,-60.3263\" fill=\"none\" stroke=\"black\"/>\n",
        "<polygon fill=\"black\" points=\"105.253,-62.9975 111.293,-54.2931 101.143,-57.331 105.253,-62.9975\" stroke=\"black\"/>\n",
        "</a>\n",
        "</g>\n",
        "<!-- 1 Output -->\n",
        "<g class=\"node\" id=\"node18\">\n",
        "<a xlink:title=\"bias=-1.000000\">\n",
        "<ellipse cx=\"223\" cy=\"-106\" fill=\"none\" rx=\"24.0416\" ry=\"24.0416\" stroke=\"black\"/>\n",
        "<text font-family=\"sans-serif\" font-size=\"14.00\" text-anchor=\"middle\" x=\"223\" y=\"-102.4\">y1</text>\n",
        "</a>\n",
        "</g>\n",
        "<!-- 1 Hidden 1&#45;&#45;1 Output -->\n",
        "<g class=\"edge\" id=\"edge21\">\n",
        "<a xlink:title=\"w11=0.000000\">\n",
        "<path d=\"M144.773,-218.238C160.288,-195.978 185.631,-159.616 203.251,-134.335\" fill=\"none\" stroke=\"black\"/>\n",
        "<polygon fill=\"black\" points=\"206.286,-136.102 209.133,-125.897 200.543,-132.1 206.286,-136.102\" stroke=\"black\"/>\n",
        "</a>\n",
        "</g>\n",
        "<!-- 2 Hidden 1&#45;&#45;1 Output -->\n",
        "<g class=\"edge\" id=\"edge23\">\n",
        "<a xlink:title=\"w12=1.000000\">\n",
        "<path d=\"M150.511,-158.003C163.353,-148.79 180.373,-136.58 194.694,-126.307\" fill=\"none\" stroke=\"black\"/>\n",
        "<polygon fill=\"black\" points=\"197.115,-128.877 203.2,-120.204 193.035,-123.189 197.115,-128.877\" stroke=\"black\"/>\n",
        "</a>\n",
        "</g>\n",
        "<!-- 3 Hidden 1&#45;&#45;1 Output -->\n",
        "<g class=\"edge\" id=\"edge25\">\n",
        "<a xlink:title=\"w13=1.000000\">\n",
        "<path d=\"M155.172,-106C165.419,-106 177.548,-106 188.696,-106\" fill=\"none\" stroke=\"black\"/>\n",
        "<polygon fill=\"black\" points=\"188.99,-109.5 198.99,-106 188.989,-102.5 188.99,-109.5\" stroke=\"black\"/>\n",
        "</a>\n",
        "</g>\n",
        "<!-- 4 Hidden 1&#45;&#45;1 Output -->\n",
        "<g class=\"edge\" id=\"edge27\">\n",
        "<a xlink:title=\"w14=0.000000\">\n",
        "<path d=\"M150.511,-53.9969C163.353,-63.2096 180.373,-75.4197 194.694,-85.6933\" fill=\"none\" stroke=\"black\"/>\n",
        "<polygon fill=\"black\" points=\"193.035,-88.8105 203.2,-91.7957 197.115,-83.1227 193.035,-88.8105\" stroke=\"black\"/>\n",
        "</a>\n",
        "</g>\n",
        "</g>\n",
        "</svg>"
       ],
       "text": [
        "<IPython.core.display.SVG at 0x1e89e10>"
       ]
      }
     ],
     "prompt_number": 40
    },
    {
     "cell_type": "code",
     "collapsed": false,
     "input": [
      "#TODO...maybe try an example like this\n",
      "\n",
      "xs = 2 * random.random(100) - 1\n",
      "ys = 2 * random.random(100) - 1\n",
      "\n",
      "training = array([xs, ys]).T\n",
      "targets = ys > sin(4 * xs) + randn(100)\n",
      "\n",
      "plot(linspace(-1,1),sin(4 * linspace(-1,1)), 'g')\n",
      "\n",
      "\n",
      "#scatter(xs, ys, c=targets)\n",
      "scatter(xs[targets], ys[targets], c='b', marker='+')\n",
      "scatter(xs[~targets], ys[~targets], c='r', marker='x')"
     ],
     "language": "python",
     "metadata": {},
     "outputs": [
      {
       "metadata": {},
       "output_type": "pyout",
       "prompt_number": 10,
       "text": [
        "<matplotlib.collections.PathCollection at 0x2df37d0>"
       ]
      },
      {
       "metadata": {},
       "output_type": "display_data",
       "png": "[encoded data removed]",
       "text": [
        "<matplotlib.figure.Figure at 0x2ae87d0>"
       ]
      }
     ],
     "prompt_number": 10
    }
   ],
   "metadata": {}
  }
 ]
}