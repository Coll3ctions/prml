{
 "metadata": {
  "name": "perceptron"
 },
 "nbformat": 3,
 "nbformat_minor": 0,
 "worksheets": [
  {
   "cells": [
    {
     "cell_type": "code",
     "collapsed": false,
     "input": [
      "%pylab inline"
     ],
     "language": "python",
     "metadata": {},
     "outputs": [
      {
       "output_type": "stream",
       "stream": "stdout",
       "text": [
        "\n",
        "Welcome to pylab, a matplotlib-based Python environment [backend: module://IPython.zmq.pylab.backend_inline].\n",
        "For more information, type 'help(pylab)'.\n"
       ]
      }
     ],
     "prompt_number": 1
    },
    {
     "cell_type": "code",
     "collapsed": false,
     "input": [
      "# Define a perceptron\n",
      "class P(object):\n",
      "    def __init__(self, b, *w):\n",
      "        self.bias = b\n",
      "        self.weights = w\n",
      "    def __call__(self, *x):\n",
      "        return int(dot(self.weights, x) + self.bias > 0)"
     ],
     "language": "python",
     "metadata": {},
     "outputs": [],
     "prompt_number": 12
    },
    {
     "cell_type": "code",
     "collapsed": false,
     "input": [
      "# Can be used to implement NAND\n",
      "NAND = P(3, -2, -2)\n",
      "\n",
      "for x1 in range(2):\n",
      "    for x2 in range(2):\n",
      "        print \"NAND(%d,%d)=%d\" % (x1,x2,NAND(x1,x2))"
     ],
     "language": "python",
     "metadata": {},
     "outputs": [
      {
       "output_type": "stream",
       "stream": "stdout",
       "text": [
        "NAND(0,0)=1\n",
        "NAND(0,1)=1\n",
        "NAND(1,0)=1\n",
        "NAND(1,1)=0\n"
       ]
      }
     ],
     "prompt_number": 18
    },
    {
     "cell_type": "code",
     "collapsed": false,
     "input": [
      "# NAND can be used to implement a 2 bit adder\n",
      "\n",
      "def adder(x1,x2):\n",
      "    \"\"\"\n",
      "    x1 --+--------->n21----+\n",
      "         |          ^      |\n",
      "         +----v     |      +--->\n",
      "              n11---+            sum -->\n",
      "         +----^ |   |      +--->\n",
      "         |      |   v      |\n",
      "    x2 --+------(-->n22-----+\n",
      "                |\n",
      "                +------------->\n",
      "                         |      carry -->\n",
      "                         +---->\n",
      "    \"\"\"\n",
      "\n",
      "    n11 = NAND(x1,x2)\n",
      "    n21 = NAND(x1,n11)\n",
      "    n22 = NAND(n11, x2)\n",
      "    s = NAND(n21,n22)\n",
      "    c = NAND(n11,n11)\n",
      "    return (s,c)\n",
      "\n",
      "for x1 in range(2):\n",
      "    for x2 in range(2):\n",
      "        print \"%d + %d = %d carry %d\" % ((x1,x2) + adder(x1,x2))\n",
      "    "
     ],
     "language": "python",
     "metadata": {},
     "outputs": [
      {
       "output_type": "stream",
       "stream": "stdout",
       "text": [
        "0 + 0 = 0 carry 0\n",
        "0 + 1 = 1 carry 0\n",
        "1 + 0 = 1 carry 0\n",
        "1 + 1 = 0 carry 1\n"
       ]
      }
     ],
     "prompt_number": 25
    },
    {
     "cell_type": "code",
     "collapsed": false,
     "input": [],
     "language": "python",
     "metadata": {},
     "outputs": []
    }
   ],
   "metadata": {}
  }
 ]
}