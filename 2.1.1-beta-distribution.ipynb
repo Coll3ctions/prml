{
 "metadata": {
  "name": "2.1.1-beta-distribution"
 },
 "nbformat": 3,
 "nbformat_minor": 0,
 "worksheets": [
  {
   "cells": [
    {
     "cell_type": "code",
     "collapsed": false,
     "input": [
      "%pylab inline\n",
      "import sympy as sym\n",
      "%load_ext sympy.interactive.ipythonprinting\n",
      "from IPython.display import display, Math, Latex\n",
      "maths = lambda s: display(Math(s))\n",
      "latex = lambda s: display(Latex(s))"
     ],
     "language": "python",
     "metadata": {},
     "outputs": [
      {
       "output_type": "stream",
       "stream": "stdout",
       "text": [
        "\n",
        "Welcome to pylab, a matplotlib-based Python environment [backend: module://IPython.zmq.pylab.backend_inline].\n",
        "For more information, type 'help(pylab)'.\n"
       ]
      }
     ],
     "prompt_number": 151
    },
    {
     "cell_type": "markdown",
     "metadata": {},
     "source": [
      "Define the Beta distribution (symbolically using sympy) which will act as our prior distribution"
     ]
    },
    {
     "cell_type": "code",
     "collapsed": false,
     "input": [
      "a,b,mu = sym.symbols('a b mu')\n",
      "G = sym.gamma\n",
      "\n",
      "# The normalisation factor\n",
      "Beta_norm = G(a + b)/(G(a)*G(b))\n",
      "# The functional form, note the similarity\n",
      "# to the Binomial likelihood\n",
      "Beta_f = mu**(a-1) * (1-mu)**(b-1)\n",
      "\n",
      "# Turn Beta into a function\n",
      "Beta = sym.Lambda((mu,a,b), Beta_norm * Beta_f)\n",
      "\n",
      "maths(r\"\\operatorname{Beta}(\\mu|a,b) = \")\n",
      "display(Beta.expr)"
     ],
     "language": "python",
     "metadata": {},
     "outputs": [
      {
       "latex": [
        "$$\\operatorname{Beta}(\\mu|a,b) = $$"
       ],
       "output_type": "display_data",
       "text": [
        "<IPython.core.display.Math object at 0x8361e50>"
       ]
      },
      {
       "latex": [
        "$$\\frac{\\mu^{a -1} \\left(- \\mu + 1\\right)^{b -1} \\Gamma\\left(a + b\\right)}{\\Gamma\\left(a\\right) \\Gamma\\left(b\\right)}$$"
       ],
       "output_type": "display_data",
       "png": "[encoded data removed]",
       "text": [
        " a - 1         b - 1         \n",
        "\u03bc     \u22c5(-\u03bc + 1)     \u22c5\u0393(a + b)\n",
        "\u2500\u2500\u2500\u2500\u2500\u2500\u2500\u2500\u2500\u2500\u2500\u2500\u2500\u2500\u2500\u2500\u2500\u2500\u2500\u2500\u2500\u2500\u2500\u2500\u2500\u2500\u2500\u2500\u2500\n",
        "          \u0393(a)\u22c5\u0393(b)          "
       ]
      }
     ],
     "prompt_number": 204
    },
    {
     "cell_type": "code",
     "collapsed": false,
     "input": [
      "mus = arange(0,1,.01)\n",
      "\n",
      "# Plot for various values of a and b\n",
      "for ab in [(.1,.1),(8,4),(2,3), (1,1)]:\n",
      "    plot(mus, vectorize(Beta)(mus,*ab), label=\"a=%s b=%s\" % ab)\n",
      "\n",
      "legend(loc=0)\n",
      "xlabel(r\"$\\mu$\", size=22)"
     ],
     "language": "python",
     "metadata": {},
     "outputs": [
      {
       "output_type": "pyout",
       "prompt_number": 205,
       "text": [
        "Text(0.5,0,'$\\\\mu$')"
       ]
      },
      {
       "output_type": "display_data",
       "png": "[encoded data removed]"
      }
     ],
     "prompt_number": 205
    },
    {
     "cell_type": "markdown",
     "metadata": {},
     "source": [
      "Now define the Binomial, which gives our likelihood"
     ]
    },
    {
     "cell_type": "code",
     "collapsed": false,
     "input": [
      "N, m = sym.symbols('N m')\n",
      "\n",
      "Bin_norm = sym.binomial(N,m)\n",
      "Bin_f = mu**m * (1-mu) ** (N-m)\n",
      "\n",
      "Bin = sym.Lambda((m, N, mu), Bin_norm * Bin_f)\n",
      "\n",
      "maths(r\"\\operatorname{Bin}(m|N,\\mu) = \")\n",
      "display(Bin.expr)"
     ],
     "language": "python",
     "metadata": {},
     "outputs": [
      {
       "latex": [
        "$$\\operatorname{Bin}(m|N,\\mu) = $$"
       ],
       "output_type": "display_data",
       "text": [
        "<IPython.core.display.Math object at 0x7f2e910>"
       ]
      },
      {
       "latex": [
        "$$\\mu^{m} \\left(- \\mu + 1\\right)^{N - m} {\\binom{N}{m}}$$"
       ],
       "output_type": "display_data",
       "png": "[encoded data removed]",
       "text": [
        " m         N - m \u239bN\u239e\n",
        "\u03bc \u22c5(-\u03bc + 1)     \u22c5\u239c \u239f\n",
        "                 \u239dm\u23a0"
       ]
      }
     ],
     "prompt_number": 209
    },
    {
     "cell_type": "markdown",
     "metadata": {},
     "source": [
      "Ignoring normalisation for now, we can find the posterior distribution\n",
      "by multiplying our Beta prior by the Binomial likelihood"
     ]
    },
    {
     "cell_type": "code",
     "collapsed": false,
     "input": [
      "p = Beta_f * Bin_f\n",
      "p = p.powsimp()\n",
      "\n",
      "maths(r\"\\operatorname{Beta}(\\mu|a,b) \\times \\operatorname{Bin}(m|N,\\mu) \\propto %s\" % sym.latex(p))"
     ],
     "language": "python",
     "metadata": {},
     "outputs": [
      {
       "latex": [
        "$$\\operatorname{Beta}(\\mu|a,b) \\times \\operatorname{Bin}(m|N,\\mu) \\propto \\mu^{a + m -1} \\left(- \\mu + 1\\right)^{N + b - m -1}$$"
       ],
       "output_type": "display_data",
       "text": [
        "<IPython.core.display.Math object at 0x7f538d0>"
       ]
      }
     ],
     "prompt_number": 208
    },
    {
     "cell_type": "markdown",
     "metadata": {},
     "source": [
      "Let $l = N-m$ (the number of tails, if we are talking about coin tosses) then we can write it as"
     ]
    },
    {
     "cell_type": "code",
     "collapsed": false,
     "input": [
      "l = sym.Symbol('l')\n",
      "p = p.subs(N-m, l)\n",
      "p"
     ],
     "language": "python",
     "metadata": {},
     "outputs": [
      {
       "latex": [
        "$$\\mu^{a + m -1} \\left(- \\mu + 1\\right)^{b + l -1}$$"
       ],
       "output_type": "pyout",
       "png": "[encoded data removed]",
       "prompt_number": 210,
       "text": [
        " a + m - 1         b + l - 1\n",
        "\u03bc         \u22c5(-\u03bc + 1)         "
       ]
      }
     ],
     "prompt_number": 210
    },
    {
     "cell_type": "markdown",
     "metadata": {},
     "source": [
      "So the posterior distribution has the same functional dependence on $\\mu$ as the prior, it is just another Beta distribution"
     ]
    },
    {
     "cell_type": "code",
     "collapsed": false,
     "input": [
      "maths(\"p(\\mu|m,l,a,b) \\propto %s\" % sym.latex(p))"
     ],
     "language": "python",
     "metadata": {},
     "outputs": [
      {
       "latex": [
        "$$p(\\mu|m,l,a,b) \\propto \\mu^{a + m -1} \\left(- \\mu + 1\\right)^{b + l -1}$$"
       ],
       "output_type": "display_data",
       "text": [
        "<IPython.core.display.Math object at 0x83910d0>"
       ]
      }
     ],
     "prompt_number": 211
    },
    {
     "cell_type": "code",
     "collapsed": false,
     "input": [
      "maths(\"p(\\mu|m,l,a,b) = \\operatorname{Beta}(\\mu|a+m,b+l) =\")\n",
      "Beta(mu,a+m,b+l)"
     ],
     "language": "python",
     "metadata": {},
     "outputs": [
      {
       "latex": [
        "$$p(\\mu|m,l,a,b) = \\operatorname{Beta}(\\mu|a+m,b+l) =$$"
       ],
       "output_type": "display_data",
       "text": [
        "<IPython.core.display.Math object at 0x835f6d0>"
       ]
      },
      {
       "latex": [
        "$$\\frac{\\mu^{a + m -1} \\left(- \\mu + 1\\right)^{b + l -1} \\Gamma\\left(a + b + l + m\\right)}{\\Gamma\\left(a + m\\right) \\Gamma\\left(b + l\\right)}$$"
       ],
       "output_type": "pyout",
       "png": "[encoded data removed]",
       "prompt_number": 216,
       "text": [
        " a + m - 1         b + l - 1                 \n",
        "\u03bc         \u22c5(-\u03bc + 1)         \u22c5\u0393(a + b + l + m)\n",
        "\u2500\u2500\u2500\u2500\u2500\u2500\u2500\u2500\u2500\u2500\u2500\u2500\u2500\u2500\u2500\u2500\u2500\u2500\u2500\u2500\u2500\u2500\u2500\u2500\u2500\u2500\u2500\u2500\u2500\u2500\u2500\u2500\u2500\u2500\u2500\u2500\u2500\u2500\u2500\u2500\u2500\u2500\u2500\u2500\u2500\n",
        "              \u0393(a + m)\u22c5\u0393(b + l)              "
       ]
      }
     ],
     "prompt_number": 216
    },
    {
     "cell_type": "code",
     "collapsed": false,
     "input": [],
     "language": "python",
     "metadata": {},
     "outputs": []
    }
   ],
   "metadata": {}
  }
 ]
}